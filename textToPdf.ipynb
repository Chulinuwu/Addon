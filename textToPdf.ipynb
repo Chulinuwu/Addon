{
 "cells": [
  {
   "cell_type": "code",
   "execution_count": 9,
   "metadata": {},
   "outputs": [
    {
     "name": "stdout",
     "output_type": "stream",
     "text": [
      "Collecting fpdf2\n",
      "  Downloading fpdf2-2.8.1-py2.py3-none-any.whl.metadata (63 kB)\n",
      "     ---------------------------------------- 0.0/63.1 kB ? eta -:--:--\n",
      "     ------------------ ------------------- 30.7/63.1 kB 660.6 kB/s eta 0:00:01\n",
      "     ---------------------------------------- 63.1/63.1 kB 1.1 MB/s eta 0:00:00\n",
      "Requirement already satisfied: defusedxml in c:\\users\\ananz\\miniconda3\\envs\\ag\\lib\\site-packages (from fpdf2) (0.7.1)\n",
      "Requirement already satisfied: Pillow!=9.2.*,>=6.2.2 in c:\\users\\ananz\\miniconda3\\envs\\ag\\lib\\site-packages (from fpdf2) (10.0.1)\n",
      "Requirement already satisfied: fonttools>=4.34.0 in c:\\users\\ananz\\miniconda3\\envs\\ag\\lib\\site-packages (from fpdf2) (4.46.0)\n",
      "Downloading fpdf2-2.8.1-py2.py3-none-any.whl (227 kB)\n",
      "   ---------------------------------------- 0.0/227.8 kB ? eta -:--:--\n",
      "   --------------------------------------- 227.8/227.8 kB 13.6 MB/s eta 0:00:00\n",
      "Installing collected packages: fpdf2\n",
      "Successfully installed fpdf2-2.8.1\n",
      "Note: you may need to restart the kernel to use updated packages.\n"
     ]
    }
   ],
   "source": [
    "pip install fpdf2\n"
   ]
  },
  {
   "cell_type": "code",
   "execution_count": 16,
   "metadata": {},
   "outputs": [
    {
     "data": {
      "text/plain": [
       "'./pdf/NHST_Lecture_Summary_EN_TH.pdf'"
      ]
     },
     "execution_count": 16,
     "metadata": {},
     "output_type": "execute_result"
    }
   ],
   "source": [
    "from fpdf import FPDF\n",
    "\n",
    "# Initialize PDF\n",
    "pdf = FPDF()\n",
    "pdf.add_page()\n",
    "\n",
    "\n",
    "# Title\n",
    "pdf.set_font(\"Arial\", \"B\", 16)\n",
    "pdf.cell(200, 10, txt=\"Lecture Summary: Topics on Null Hypothesis Statistical Testing (NHST)\", ln=True, align=\"C\")\n",
    "pdf.ln(10)\n",
    "\n",
    "# English version summary content\n",
    "pdf.set_font(\"Arial\", \"\", 12)\n",
    "english_content = \"\"\"\n",
    "The document summarizes a lecture on Null Hypothesis Statistical Testing (NHST), covering key concepts, testing types, and best practices. Here’s a breakdown of the main points:\n",
    "\n",
    "1. NHST Overview:\n",
    "   - Introduction to core concepts like the null hypothesis, test statistics, significance level, p-value, and rejection regions.\n",
    "   - Instructions for designing a hypothesis test, choosing null and alternative hypotheses, significance levels, and understanding one-sided vs. two-sided tests.\n",
    "\n",
    "2. Types of Statistical Tests:\n",
    "   - Common tests include Z-tests, t-tests (one-sample, two-sample, paired), and Welch’s t-test for unequal variance.\n",
    "   - F-tests for equal means and variance, Chi-squared tests for distribution fit and homogeneity, and Likelihood-ratio tests are also discussed.\n",
    "\n",
    "3. Practical Examples:\n",
    "   - Scenarios illustrate test applications, like testing class height against population average, drug effectiveness, survey bias, and drawing ratings.\n",
    "\n",
    "4. Key Concepts and Issues:\n",
    "   - P-value problems: Warnings about p-hacking, low power experiments, and misconceptions, such as assuming p-values indicate effect size.\n",
    "   - FWER and FDR: Techniques to control family-wise error rate and false discovery rate using methods like the Bonferroni and Benjamini-Hochberg corrections.\n",
    "   - Best Practices: Recommendations for calculating sample sizes, documenting methodologies, and presenting data clearly with distribution plots.\n",
    "\n",
    "5. Causation vs. Correlation:\n",
    "   - Differentiating correlation from causation, with examples on confounding factors in observational studies.\n",
    "\n",
    "6. Interventional Studies:\n",
    "   - Introducing Randomized Control Trials (RCTs) as a standard for establishing causation, especially in social sciences.\n",
    "\n",
    "The file covers essential elements and practical advice for hypothesis testing, addressing common pitfalls and emphasizing rigor in experimental design.\n",
    "\"\"\"\n",
    "\n",
    "pdf.multi_cell(0, 10, txt=english_content.encode('latin-1', 'replace').decode('latin-1'))\n",
    "pdf.ln(10)\n",
    "\n",
    "\n",
    "# Save as PDF\n",
    "pdf_output_path = \"./pdf/NHST_Lecture_Summary_EN_TH.pdf\"\n",
    "pdf.output(pdf_output_path)\n",
    "\n",
    "pdf_output_path"
   ]
  }
 ],
 "metadata": {
  "kernelspec": {
   "display_name": "ag",
   "language": "python",
   "name": "python3"
  },
  "language_info": {
   "codemirror_mode": {
    "name": "ipython",
    "version": 3
   },
   "file_extension": ".py",
   "mimetype": "text/x-python",
   "name": "python",
   "nbconvert_exporter": "python",
   "pygments_lexer": "ipython3",
   "version": "3.10.13"
  }
 },
 "nbformat": 4,
 "nbformat_minor": 2
}
