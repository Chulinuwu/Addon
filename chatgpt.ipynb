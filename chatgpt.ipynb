{
 "cells": [
  {
   "cell_type": "code",
   "execution_count": 14,
   "metadata": {},
   "outputs": [
    {
     "name": "stdout",
     "output_type": "stream",
     "text": [
      "Requirement already satisfied: openai in c:\\users\\chulin\\miniconda3\\envs\\ag\\lib\\site-packages (1.54.3)\n",
      "Requirement already satisfied: anyio<5,>=3.5.0 in c:\\users\\chulin\\miniconda3\\envs\\ag\\lib\\site-packages (from openai) (3.7.1)\n",
      "Requirement already satisfied: distro<2,>=1.7.0 in c:\\users\\chulin\\miniconda3\\envs\\ag\\lib\\site-packages (from openai) (1.9.0)\n",
      "Requirement already satisfied: httpx<1,>=0.23.0 in c:\\users\\chulin\\miniconda3\\envs\\ag\\lib\\site-packages (from openai) (0.27.2)\n",
      "Requirement already satisfied: jiter<1,>=0.4.0 in c:\\users\\chulin\\miniconda3\\envs\\ag\\lib\\site-packages (from openai) (0.7.0)\n",
      "Requirement already satisfied: pydantic<3,>=1.9.0 in c:\\users\\chulin\\miniconda3\\envs\\ag\\lib\\site-packages (from openai) (1.10.13)\n",
      "Requirement already satisfied: sniffio in c:\\users\\chulin\\miniconda3\\envs\\ag\\lib\\site-packages (from openai) (1.3.0)\n",
      "Requirement already satisfied: tqdm>4 in c:\\users\\chulin\\miniconda3\\envs\\ag\\lib\\site-packages (from openai) (4.65.2)\n",
      "Requirement already satisfied: typing-extensions<5,>=4.11 in c:\\users\\chulin\\miniconda3\\envs\\ag\\lib\\site-packages (from openai) (4.12.2)\n",
      "Requirement already satisfied: idna>=2.8 in c:\\users\\chulin\\miniconda3\\envs\\ag\\lib\\site-packages (from anyio<5,>=3.5.0->openai) (3.6)\n",
      "Requirement already satisfied: exceptiongroup in c:\\users\\chulin\\miniconda3\\envs\\ag\\lib\\site-packages (from anyio<5,>=3.5.0->openai) (1.2.0)\n",
      "Requirement already satisfied: certifi in c:\\users\\chulin\\miniconda3\\envs\\ag\\lib\\site-packages (from httpx<1,>=0.23.0->openai) (2023.11.17)\n",
      "Requirement already satisfied: httpcore==1.* in c:\\users\\chulin\\miniconda3\\envs\\ag\\lib\\site-packages (from httpx<1,>=0.23.0->openai) (1.0.6)\n",
      "Requirement already satisfied: h11<0.15,>=0.13 in c:\\users\\chulin\\miniconda3\\envs\\ag\\lib\\site-packages (from httpcore==1.*->httpx<1,>=0.23.0->openai) (0.14.0)\n",
      "Requirement already satisfied: colorama in c:\\users\\chulin\\miniconda3\\envs\\ag\\lib\\site-packages (from tqdm>4->openai) (0.4.6)\n",
      "Collecting textblob\n",
      "  Downloading textblob-0.18.0.post0-py3-none-any.whl.metadata (4.5 kB)\n",
      "Requirement already satisfied: nltk>=3.8 in c:\\users\\chulin\\miniconda3\\envs\\ag\\lib\\site-packages (from textblob) (3.8.1)\n",
      "Requirement already satisfied: click in c:\\users\\chulin\\miniconda3\\envs\\ag\\lib\\site-packages (from nltk>=3.8->textblob) (8.1.7)\n",
      "Requirement already satisfied: joblib in c:\\users\\chulin\\miniconda3\\envs\\ag\\lib\\site-packages (from nltk>=3.8->textblob) (1.3.2)\n",
      "Requirement already satisfied: regex>=2021.8.3 in c:\\users\\chulin\\miniconda3\\envs\\ag\\lib\\site-packages (from nltk>=3.8->textblob) (2023.10.3)\n",
      "Requirement already satisfied: tqdm in c:\\users\\chulin\\miniconda3\\envs\\ag\\lib\\site-packages (from nltk>=3.8->textblob) (4.65.2)\n",
      "Requirement already satisfied: colorama in c:\\users\\chulin\\miniconda3\\envs\\ag\\lib\\site-packages (from click->nltk>=3.8->textblob) (0.4.6)\n",
      "Downloading textblob-0.18.0.post0-py3-none-any.whl (626 kB)\n",
      "   ---------------------------------------- 0.0/626.3 kB ? eta -:--:--\n",
      "    --------------------------------------- 10.2/626.3 kB ? eta -:--:--\n",
      "   -- ------------------------------------ 41.0/626.3 kB 487.6 kB/s eta 0:00:02\n",
      "   --- ----------------------------------- 61.4/626.3 kB 648.1 kB/s eta 0:00:01\n",
      "   ----- --------------------------------- 92.2/626.3 kB 521.8 kB/s eta 0:00:02\n",
      "   --------- ---------------------------- 153.6/626.3 kB 702.7 kB/s eta 0:00:01\n",
      "   ------------------ --------------------- 286.7/626.3 kB 1.1 MB/s eta 0:00:01\n",
      "   ---------------------------- ----------- 450.6/626.3 kB 1.5 MB/s eta 0:00:01\n",
      "   ---------------------------------- ----- 532.5/626.3 kB 1.5 MB/s eta 0:00:01\n",
      "   ---------------------------------------- 626.3/626.3 kB 1.6 MB/s eta 0:00:00\n",
      "Installing collected packages: textblob\n",
      "Successfully installed textblob-0.18.0.post0\n"
     ]
    }
   ],
   "source": [
    "!pip install openai\n",
    "!pip install textblob"
   ]
  }
 ],
 "metadata": {
  "kernelspec": {
   "display_name": "ag",
   "language": "python",
   "name": "python3"
  },
  "language_info": {
   "codemirror_mode": {
    "name": "ipython",
    "version": 3
   },
   "file_extension": ".py",
   "mimetype": "text/x-python",
   "name": "python",
   "nbconvert_exporter": "python",
   "pygments_lexer": "ipython3",
   "version": "3.9.18"
  }
 },
 "nbformat": 4,
 "nbformat_minor": 2
}
